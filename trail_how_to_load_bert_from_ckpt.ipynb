{
 "cells": [
  {
   "cell_type": "code",
   "execution_count": 1,
   "metadata": {},
   "outputs": [
    {
     "name": "stderr",
     "output_type": "stream",
     "text": [
      "/opt/conda/lib/python3.10/site-packages/tqdm/auto.py:21: TqdmWarning: IProgress not found. Please update jupyter and ipywidgets. See https://ipywidgets.readthedocs.io/en/stable/user_install.html\n",
      "  from .autonotebook import tqdm as notebook_tqdm\n",
      "Some weights of BertForSequenceClassification were not initialized from the model checkpoint at microsoft/BiomedNLP-BiomedBERT-base-uncased-abstract-fulltext and are newly initialized: ['classifier.bias', 'classifier.weight']\n",
      "You should probably TRAIN this model on a down-stream task to be able to use it for predictions and inference.\n"
     ]
    }
   ],
   "source": [
    "import  torch\n",
    "\n",
    "import sys\n",
    "import pytorch_lightning as pl\n",
    "\n",
    "# setting path\n",
    "sys.path.append('~/pubmedQA_291')\n",
    "from dataset import MedMCQA_Datamodule\n",
    "from model import MedMCQAModel\n",
    "from show_attention import generate\n",
    "config = {\n",
    "    \"contrastive\": True,\n",
    "    \"contrastive_coeff\": 0.1,\n",
    "    \"has_additional_prompt\":False,\n",
    "    \"pretrained_model\":\"microsoft/BiomedNLP-BiomedBERT-base-uncased-abstract-fulltext\",\n",
    "    \"num_workers\": 8,\n",
    "    \"bs\":32,\n",
    "    \"lr\":2e-5,\n",
    "    \"attention_dropout\" : 0.1,\n",
    "    \"hidden_dropout\" : 0.1,\n",
    "    \"weight_decay\": 1e-3,\n",
    "    \"model_style\": \"classification\",\n",
    "    \"output_attentions\": True\n",
    "}\n",
    "# dm = MedMCQA_Datamodule(batch_size=1, parser_args=config)\n",
    "model = MedMCQAModel(parser_args=config, **config)\n",
    "path_finetuned_pubmed_bert = '/root/pubmedQA_291/exps/prevent_overfitting/microsoft/BiomedNLP-BiomedBERT-base-uncased-abstract-fulltext_classification/pubmed_bert/checkpoints/epoch=2-step=4287.ckpt'\n"
   ]
  },
  {
   "cell_type": "code",
   "execution_count": 3,
   "metadata": {},
   "outputs": [],
   "source": [
    "ckpt = torch.load(path_finetuned_pubmed_bert)"
   ]
  },
  {
   "cell_type": "code",
   "execution_count": 7,
   "metadata": {},
   "outputs": [
    {
     "data": {
      "text/plain": [
       "odict_keys(['model.bert.embeddings.word_embeddings.weight', 'model.bert.embeddings.position_embeddings.weight', 'model.bert.embeddings.token_type_embeddings.weight', 'model.bert.embeddings.LayerNorm.weight', 'model.bert.embeddings.LayerNorm.bias', 'model.bert.encoder.layer.0.attention.self.query.weight', 'model.bert.encoder.layer.0.attention.self.query.bias', 'model.bert.encoder.layer.0.attention.self.key.weight', 'model.bert.encoder.layer.0.attention.self.key.bias', 'model.bert.encoder.layer.0.attention.self.value.weight', 'model.bert.encoder.layer.0.attention.self.value.bias', 'model.bert.encoder.layer.0.attention.output.dense.weight', 'model.bert.encoder.layer.0.attention.output.dense.bias', 'model.bert.encoder.layer.0.attention.output.LayerNorm.weight', 'model.bert.encoder.layer.0.attention.output.LayerNorm.bias', 'model.bert.encoder.layer.0.intermediate.dense.weight', 'model.bert.encoder.layer.0.intermediate.dense.bias', 'model.bert.encoder.layer.0.output.dense.weight', 'model.bert.encoder.layer.0.output.dense.bias', 'model.bert.encoder.layer.0.output.LayerNorm.weight', 'model.bert.encoder.layer.0.output.LayerNorm.bias', 'model.bert.encoder.layer.1.attention.self.query.weight', 'model.bert.encoder.layer.1.attention.self.query.bias', 'model.bert.encoder.layer.1.attention.self.key.weight', 'model.bert.encoder.layer.1.attention.self.key.bias', 'model.bert.encoder.layer.1.attention.self.value.weight', 'model.bert.encoder.layer.1.attention.self.value.bias', 'model.bert.encoder.layer.1.attention.output.dense.weight', 'model.bert.encoder.layer.1.attention.output.dense.bias', 'model.bert.encoder.layer.1.attention.output.LayerNorm.weight', 'model.bert.encoder.layer.1.attention.output.LayerNorm.bias', 'model.bert.encoder.layer.1.intermediate.dense.weight', 'model.bert.encoder.layer.1.intermediate.dense.bias', 'model.bert.encoder.layer.1.output.dense.weight', 'model.bert.encoder.layer.1.output.dense.bias', 'model.bert.encoder.layer.1.output.LayerNorm.weight', 'model.bert.encoder.layer.1.output.LayerNorm.bias', 'model.bert.encoder.layer.2.attention.self.query.weight', 'model.bert.encoder.layer.2.attention.self.query.bias', 'model.bert.encoder.layer.2.attention.self.key.weight', 'model.bert.encoder.layer.2.attention.self.key.bias', 'model.bert.encoder.layer.2.attention.self.value.weight', 'model.bert.encoder.layer.2.attention.self.value.bias', 'model.bert.encoder.layer.2.attention.output.dense.weight', 'model.bert.encoder.layer.2.attention.output.dense.bias', 'model.bert.encoder.layer.2.attention.output.LayerNorm.weight', 'model.bert.encoder.layer.2.attention.output.LayerNorm.bias', 'model.bert.encoder.layer.2.intermediate.dense.weight', 'model.bert.encoder.layer.2.intermediate.dense.bias', 'model.bert.encoder.layer.2.output.dense.weight', 'model.bert.encoder.layer.2.output.dense.bias', 'model.bert.encoder.layer.2.output.LayerNorm.weight', 'model.bert.encoder.layer.2.output.LayerNorm.bias', 'model.bert.encoder.layer.3.attention.self.query.weight', 'model.bert.encoder.layer.3.attention.self.query.bias', 'model.bert.encoder.layer.3.attention.self.key.weight', 'model.bert.encoder.layer.3.attention.self.key.bias', 'model.bert.encoder.layer.3.attention.self.value.weight', 'model.bert.encoder.layer.3.attention.self.value.bias', 'model.bert.encoder.layer.3.attention.output.dense.weight', 'model.bert.encoder.layer.3.attention.output.dense.bias', 'model.bert.encoder.layer.3.attention.output.LayerNorm.weight', 'model.bert.encoder.layer.3.attention.output.LayerNorm.bias', 'model.bert.encoder.layer.3.intermediate.dense.weight', 'model.bert.encoder.layer.3.intermediate.dense.bias', 'model.bert.encoder.layer.3.output.dense.weight', 'model.bert.encoder.layer.3.output.dense.bias', 'model.bert.encoder.layer.3.output.LayerNorm.weight', 'model.bert.encoder.layer.3.output.LayerNorm.bias', 'model.bert.encoder.layer.4.attention.self.query.weight', 'model.bert.encoder.layer.4.attention.self.query.bias', 'model.bert.encoder.layer.4.attention.self.key.weight', 'model.bert.encoder.layer.4.attention.self.key.bias', 'model.bert.encoder.layer.4.attention.self.value.weight', 'model.bert.encoder.layer.4.attention.self.value.bias', 'model.bert.encoder.layer.4.attention.output.dense.weight', 'model.bert.encoder.layer.4.attention.output.dense.bias', 'model.bert.encoder.layer.4.attention.output.LayerNorm.weight', 'model.bert.encoder.layer.4.attention.output.LayerNorm.bias', 'model.bert.encoder.layer.4.intermediate.dense.weight', 'model.bert.encoder.layer.4.intermediate.dense.bias', 'model.bert.encoder.layer.4.output.dense.weight', 'model.bert.encoder.layer.4.output.dense.bias', 'model.bert.encoder.layer.4.output.LayerNorm.weight', 'model.bert.encoder.layer.4.output.LayerNorm.bias', 'model.bert.encoder.layer.5.attention.self.query.weight', 'model.bert.encoder.layer.5.attention.self.query.bias', 'model.bert.encoder.layer.5.attention.self.key.weight', 'model.bert.encoder.layer.5.attention.self.key.bias', 'model.bert.encoder.layer.5.attention.self.value.weight', 'model.bert.encoder.layer.5.attention.self.value.bias', 'model.bert.encoder.layer.5.attention.output.dense.weight', 'model.bert.encoder.layer.5.attention.output.dense.bias', 'model.bert.encoder.layer.5.attention.output.LayerNorm.weight', 'model.bert.encoder.layer.5.attention.output.LayerNorm.bias', 'model.bert.encoder.layer.5.intermediate.dense.weight', 'model.bert.encoder.layer.5.intermediate.dense.bias', 'model.bert.encoder.layer.5.output.dense.weight', 'model.bert.encoder.layer.5.output.dense.bias', 'model.bert.encoder.layer.5.output.LayerNorm.weight', 'model.bert.encoder.layer.5.output.LayerNorm.bias', 'model.bert.encoder.layer.6.attention.self.query.weight', 'model.bert.encoder.layer.6.attention.self.query.bias', 'model.bert.encoder.layer.6.attention.self.key.weight', 'model.bert.encoder.layer.6.attention.self.key.bias', 'model.bert.encoder.layer.6.attention.self.value.weight', 'model.bert.encoder.layer.6.attention.self.value.bias', 'model.bert.encoder.layer.6.attention.output.dense.weight', 'model.bert.encoder.layer.6.attention.output.dense.bias', 'model.bert.encoder.layer.6.attention.output.LayerNorm.weight', 'model.bert.encoder.layer.6.attention.output.LayerNorm.bias', 'model.bert.encoder.layer.6.intermediate.dense.weight', 'model.bert.encoder.layer.6.intermediate.dense.bias', 'model.bert.encoder.layer.6.output.dense.weight', 'model.bert.encoder.layer.6.output.dense.bias', 'model.bert.encoder.layer.6.output.LayerNorm.weight', 'model.bert.encoder.layer.6.output.LayerNorm.bias', 'model.bert.encoder.layer.7.attention.self.query.weight', 'model.bert.encoder.layer.7.attention.self.query.bias', 'model.bert.encoder.layer.7.attention.self.key.weight', 'model.bert.encoder.layer.7.attention.self.key.bias', 'model.bert.encoder.layer.7.attention.self.value.weight', 'model.bert.encoder.layer.7.attention.self.value.bias', 'model.bert.encoder.layer.7.attention.output.dense.weight', 'model.bert.encoder.layer.7.attention.output.dense.bias', 'model.bert.encoder.layer.7.attention.output.LayerNorm.weight', 'model.bert.encoder.layer.7.attention.output.LayerNorm.bias', 'model.bert.encoder.layer.7.intermediate.dense.weight', 'model.bert.encoder.layer.7.intermediate.dense.bias', 'model.bert.encoder.layer.7.output.dense.weight', 'model.bert.encoder.layer.7.output.dense.bias', 'model.bert.encoder.layer.7.output.LayerNorm.weight', 'model.bert.encoder.layer.7.output.LayerNorm.bias', 'model.bert.encoder.layer.8.attention.self.query.weight', 'model.bert.encoder.layer.8.attention.self.query.bias', 'model.bert.encoder.layer.8.attention.self.key.weight', 'model.bert.encoder.layer.8.attention.self.key.bias', 'model.bert.encoder.layer.8.attention.self.value.weight', 'model.bert.encoder.layer.8.attention.self.value.bias', 'model.bert.encoder.layer.8.attention.output.dense.weight', 'model.bert.encoder.layer.8.attention.output.dense.bias', 'model.bert.encoder.layer.8.attention.output.LayerNorm.weight', 'model.bert.encoder.layer.8.attention.output.LayerNorm.bias', 'model.bert.encoder.layer.8.intermediate.dense.weight', 'model.bert.encoder.layer.8.intermediate.dense.bias', 'model.bert.encoder.layer.8.output.dense.weight', 'model.bert.encoder.layer.8.output.dense.bias', 'model.bert.encoder.layer.8.output.LayerNorm.weight', 'model.bert.encoder.layer.8.output.LayerNorm.bias', 'model.bert.encoder.layer.9.attention.self.query.weight', 'model.bert.encoder.layer.9.attention.self.query.bias', 'model.bert.encoder.layer.9.attention.self.key.weight', 'model.bert.encoder.layer.9.attention.self.key.bias', 'model.bert.encoder.layer.9.attention.self.value.weight', 'model.bert.encoder.layer.9.attention.self.value.bias', 'model.bert.encoder.layer.9.attention.output.dense.weight', 'model.bert.encoder.layer.9.attention.output.dense.bias', 'model.bert.encoder.layer.9.attention.output.LayerNorm.weight', 'model.bert.encoder.layer.9.attention.output.LayerNorm.bias', 'model.bert.encoder.layer.9.intermediate.dense.weight', 'model.bert.encoder.layer.9.intermediate.dense.bias', 'model.bert.encoder.layer.9.output.dense.weight', 'model.bert.encoder.layer.9.output.dense.bias', 'model.bert.encoder.layer.9.output.LayerNorm.weight', 'model.bert.encoder.layer.9.output.LayerNorm.bias', 'model.bert.encoder.layer.10.attention.self.query.weight', 'model.bert.encoder.layer.10.attention.self.query.bias', 'model.bert.encoder.layer.10.attention.self.key.weight', 'model.bert.encoder.layer.10.attention.self.key.bias', 'model.bert.encoder.layer.10.attention.self.value.weight', 'model.bert.encoder.layer.10.attention.self.value.bias', 'model.bert.encoder.layer.10.attention.output.dense.weight', 'model.bert.encoder.layer.10.attention.output.dense.bias', 'model.bert.encoder.layer.10.attention.output.LayerNorm.weight', 'model.bert.encoder.layer.10.attention.output.LayerNorm.bias', 'model.bert.encoder.layer.10.intermediate.dense.weight', 'model.bert.encoder.layer.10.intermediate.dense.bias', 'model.bert.encoder.layer.10.output.dense.weight', 'model.bert.encoder.layer.10.output.dense.bias', 'model.bert.encoder.layer.10.output.LayerNorm.weight', 'model.bert.encoder.layer.10.output.LayerNorm.bias', 'model.bert.encoder.layer.11.attention.self.query.weight', 'model.bert.encoder.layer.11.attention.self.query.bias', 'model.bert.encoder.layer.11.attention.self.key.weight', 'model.bert.encoder.layer.11.attention.self.key.bias', 'model.bert.encoder.layer.11.attention.self.value.weight', 'model.bert.encoder.layer.11.attention.self.value.bias', 'model.bert.encoder.layer.11.attention.output.dense.weight', 'model.bert.encoder.layer.11.attention.output.dense.bias', 'model.bert.encoder.layer.11.attention.output.LayerNorm.weight', 'model.bert.encoder.layer.11.attention.output.LayerNorm.bias', 'model.bert.encoder.layer.11.intermediate.dense.weight', 'model.bert.encoder.layer.11.intermediate.dense.bias', 'model.bert.encoder.layer.11.output.dense.weight', 'model.bert.encoder.layer.11.output.dense.bias', 'model.bert.encoder.layer.11.output.LayerNorm.weight', 'model.bert.encoder.layer.11.output.LayerNorm.bias', 'model.bert.pooler.dense.weight', 'model.bert.pooler.dense.bias', 'model.classifier.weight', 'model.classifier.bias'])"
      ]
     },
     "execution_count": 7,
     "metadata": {},
     "output_type": "execute_result"
    }
   ],
   "source": [
    "ckpt['state_dict'].keys()"
   ]
  },
  {
   "cell_type": "code",
   "execution_count": 12,
   "metadata": {},
   "outputs": [
    {
     "name": "stderr",
     "output_type": "stream",
     "text": [
      "Some weights of BertForSequenceClassification were not initialized from the model checkpoint at microsoft/BiomedNLP-BiomedBERT-base-uncased-abstract-fulltext and are newly initialized: ['classifier.bias', 'classifier.weight']\n",
      "You should probably TRAIN this model on a down-stream task to be able to use it for predictions and inference.\n",
      "/opt/conda/lib/python3.10/site-packages/pytorch_lightning/core/saving.py:184: Found keys that are in the model state dict but not in the checkpoint: ['temp', 'exp_projection.weight', 'exp_projection.bias', 'mcq_projection.weight', 'mcq_projection.bias']\n"
     ]
    },
    {
     "ename": "",
     "evalue": "",
     "output_type": "error",
     "traceback": [
      "\u001b[1;31mThe Kernel crashed while executing code in the current cell or a previous cell. \n",
      "\u001b[1;31mPlease review the code in the cell(s) to identify a possible cause of the failure. \n",
      "\u001b[1;31mClick <a href='https://aka.ms/vscodeJupyterKernelCrash'>here</a> for more info. \n",
      "\u001b[1;31mView Jupyter <a href='command:jupyter.viewOutput'>log</a> for further details."
     ]
    }
   ],
   "source": [
    "new_mod = MedMCQAModel.load_from_checkpoint(path_finetuned_pubmed_bert,strict=False, parser_args=config)"
   ]
  },
  {
   "cell_type": "code",
   "execution_count": null,
   "metadata": {},
   "outputs": [],
   "source": []
  }
 ],
 "metadata": {
  "kernelspec": {
   "display_name": "base",
   "language": "python",
   "name": "python3"
  },
  "language_info": {
   "codemirror_mode": {
    "name": "ipython",
    "version": 3
   },
   "file_extension": ".py",
   "mimetype": "text/x-python",
   "name": "python",
   "nbconvert_exporter": "python",
   "pygments_lexer": "ipython3",
   "version": "3.10.13"
  }
 },
 "nbformat": 4,
 "nbformat_minor": 2
}

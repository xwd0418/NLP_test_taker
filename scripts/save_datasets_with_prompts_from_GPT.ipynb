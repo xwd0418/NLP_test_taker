{
 "cells": [
  {
   "cell_type": "code",
   "execution_count": 1,
   "metadata": {},
   "outputs": [
    {
     "name": "stderr",
     "output_type": "stream",
     "text": [
      "/opt/conda/lib/python3.10/site-packages/tqdm/auto.py:21: TqdmWarning: IProgress not found. Please update jupyter and ipywidgets. See https://ipywidgets.readthedocs.io/en/stable/user_install.html\n",
      "  from .autonotebook import tqdm as notebook_tqdm\n"
     ]
    }
   ],
   "source": [
    "import logging\n",
    "import pickle, random\n",
    "import torch, os, pytorch_lightning as pl, glob\n",
    "import torch.distributed as dist\n",
    "from torch.utils.data import DataLoader, Dataset\n",
    "from transformers import BertTokenizer\n",
    "import torch.nn.functional as F\n",
    "from datasets import load_dataset\n",
    "\n"
   ]
  },
  {
   "cell_type": "code",
   "execution_count": 2,
   "metadata": {},
   "outputs": [],
   "source": [
    "# dm = MedMCQA_Datamodule_to_save_datasets()\n",
    "# dm.setup()"
   ]
  },
  {
   "cell_type": "code",
   "execution_count": 3,
   "metadata": {},
   "outputs": [],
   "source": [
    "dataset_together = load_dataset(\"openlifescienceai/medmcqa\")"
   ]
  },
  {
   "cell_type": "code",
   "execution_count": 4,
   "metadata": {},
   "outputs": [],
   "source": [
    "dataset = dataset_together[\"validation\"]"
   ]
  },
  {
   "cell_type": "code",
   "execution_count": 5,
   "metadata": {},
   "outputs": [],
   "source": [
    "from transformers import AutoTokenizer, AutoModel\n",
    "from transformers import GPT2Tokenizer, GPT2LMHeadModel\n",
    "device = torch.device(\"cuda:0\" if torch.cuda.is_available() else \"cpu\")"
   ]
  },
  {
   "cell_type": "code",
   "execution_count": 6,
   "metadata": {},
   "outputs": [],
   "source": [
    "# del generation_model"
   ]
  },
  {
   "cell_type": "code",
   "execution_count": null,
   "metadata": {},
   "outputs": [],
   "source": []
  },
  {
   "cell_type": "code",
   "execution_count": null,
   "metadata": {},
   "outputs": [],
   "source": []
  },
  {
   "cell_type": "code",
   "execution_count": null,
   "metadata": {},
   "outputs": [],
   "source": []
  },
  {
   "cell_type": "code",
   "execution_count": null,
   "metadata": {},
   "outputs": [],
   "source": []
  },
  {
   "cell_type": "code",
   "execution_count": 7,
   "metadata": {},
   "outputs": [],
   "source": [
    "# generate prompts from dataset\n",
    "\n",
    "A,B,C,D = dataset['opa'], dataset['opb'],dataset['opc'],dataset['opd']\n",
    "questions = dataset['question']\n",
    "subject_names = dataset['subject_name']\n",
    "topic_names = dataset['topic_name']\n",
    "\n"
   ]
  },
  {
   "cell_type": "code",
   "execution_count": 8,
   "metadata": {},
   "outputs": [],
   "source": [
    "input_prompts_long = list(map(lambda a,b,c,d,q,subject,topic: f\"Subject: {subject}, Topic: {topic}\\nQuestion: {q}\\nA: {a}\\nB: {b}\\nC: {c}\\nD: {d}\\nKey concepts: \",\n",
    "                    A,B,C,D,questions, subject_names, topic_names))\n",
    "\n",
    "input_prompts = list(map(lambda a,b,c,d,q,subject,topic: f\"Subject: {subject}, Topic: {topic}\\nQuestion: {q}\\n To answer this question, we need to notice that \",\n",
    "                    A,B,C,D,questions, subject_names, topic_names))"
   ]
  },
  {
   "cell_type": "code",
   "execution_count": 9,
   "metadata": {},
   "outputs": [],
   "source": [
    "input_prompts_short = list(map(lambda q: f\"{q} It is relavent to\",\n",
    "                    questions))\n",
    "\n",
    "\n",
    "\n",
    "input_prompts_concept = list(map(lambda q: f\"{q} Key Concept:\",\n",
    "                    questions))"
   ]
  },
  {
   "cell_type": "code",
   "execution_count": 10,
   "metadata": {},
   "outputs": [],
   "source": [
    "\n",
    "import random\n",
    "from transformers import GPT2Tokenizer, GPT2LMHeadModel\n",
    "\n",
    "import torch\n",
    "# prompt = [\"NMR is used to\", \n",
    "#           \"Which of the following is not true about glomerular capillaries: It is relavent to\",\n",
    "#           \"A 29 yrs old woman with a pregnancy of 17 week has a 10 years old boy with down syndrome. She does not want another down syndrome kid; best advice to her is: It is relavent to\"]\n",
    "# Load the pretrained model and tokenizer\n",
    "model_name = \"healx/gpt-2-pubmed-medium\"\n",
    "max_length = 100\n",
    "model = GPT2LMHeadModel.from_pretrained(model_name).to(device)\n",
    "tokenizer = GPT2Tokenizer.from_pretrained(model_name)\n",
    "tokenizer.padding_side='left'\n",
    "tokenizer.pad_token = tokenizer.eos_token\n"
   ]
  },
  {
   "cell_type": "code",
   "execution_count": 11,
   "metadata": {},
   "outputs": [],
   "source": [
    "import tqdm"
   ]
  },
  {
   "cell_type": "code",
   "execution_count": 65,
   "metadata": {},
   "outputs": [
    {
     "name": "stderr",
     "output_type": "stream",
     "text": [
      "  0%|          | 0/261 [00:04<?, ?it/s]\n"
     ]
    },
    {
     "data": {
      "text/plain": [
       "['Which of the following is not true for myelinated nerve fibers: Hint: Nerve conduction studies.OBJECTIVE: The purpose of this study was to determine whether there are differences in electrophysiologic parameters between patients with and without demyelinating polyneuropathy (DPN).MATERIALS AND METHODS: Electrophysiologic tests were performed on 30 patients with DPN and 30 age-matched control subjects.RESULTS: Patients with DPN had significantly lower median amplitudes of compound muscle action potentials (CMAPs)',\n",
       " \"Which of the following is not true about glomerular capillaries') Hint: Glomerular filtration rate (GFR) in patients with chronic kidney disease.OBJECTIVE: Chronic kidney disease (CKD) is associated with an increased risk of cardiovascular morbidity and mortality. The aim of this study was to evaluate the effect of CKD on GFR, as measured by serum creatinine (SCr).MATERIALS AND METHODS: We conducted a cross-sectional analysis using data collected from 472 consecutive outpatients who had undergone\",\n",
       " 'A 29 yrs old woman with a pregnancy of 17 week has a 10 years old boy with down syndrome. She does not want another down syndrome kid; best advice to her is Hint: \"I don\\'t know if there are any other children who will be affected by Down syndrome\".\\n[Prenatal diagnosis of congenital diaphragmatic hernia].Congenital diaphragmatic hernia (CDH) is one of the most common congenital malformations, but its prenatal diagnosis is very rare. We report a case of CDH that was diagnosed prenatally at 24 weeks of gestation using magnetic resonance imaging (MRI) and computed tomography (CT).',\n",
       " 'Axonal transport is: Hint: The axons of the central nervous system (CNS) must be able to cross the blood-brain barrier (BBB). However, little is known about the molecular mechanisms involved in this process. In this study, we investigated the role of Src homology 2 domain-containing protein tyrosine kinase (SHP2) and its downstream effector phosphatidylinositol 3-phosphate 5-kinase (PI3K)/protein kinase B (AK',\n",
       " 'Low insulin to glucagon ratio is seen in all of these except: Hint: Insulin/glucagon ratio <0.5 (p<0.05).CONCLUSION: In patients with type 2 diabetes mellitus, there is a high prevalence of hypoglycemia and hyperinsulinemia. The most common causes of hypoglycemia are non-ketotic hyperglycemia and diabetic ketoacidosis. Hypoglycemia is associated with an increased risk of severe complications such as myocardial infarction, stroke or death.\\n[',\n",
       " 'Concentration of tropicamide: Hint: In vitro and in vivo studies.BACKGROUND AND OBJECTIVES: Tropicamide (TPM) is a broad-spectrum antibiotic used for the treatment of infections caused by multidrug-resistant Gram-negative bacilli. The aim of this study was to evaluate the pharmacokinetic properties of TPM after intravenous, intramuscular or subcutaneous administration as well as its antibacterial activity against Staphylococcus aureus ATCC 25923.METHODS',\n",
       " 'Which of the following statements is true regarding H I N1 Influenza? Hint: The influenza A (H1N1) pandemic has been a major public health concern in recent years. In this study, we aimed to determine the prevalence of H1N1 and H3N2 subtypes among hospitalized children with acute respiratory tract infection (ARTI).METHODS: We retrospectively reviewed the medical records of all pediatric patients who were diagnosed with ARTI between January 2009 and December 2010 at our hospital.RESULTS: During the study period, there were 1,058 cases',\n",
       " \"Which of the following are not a branch of external carotid Aery in Kiesselbach's plexus. Hint: External carotid artery (ECA) aneurysm is one of the most common types of intracranial aneurysms, which accounts for more than 50% of all ruptured cerebral aneurysms. The etiology and pathogenesis of ECA aneurysm remain to be elucidated. In this study, we aimed to investigate the relationship between internal carotid artery (ICA) aneurysm and Kiesselbach's plexus as well as\",\n",
       " 'Diagnosis of the following ECG- Hint: a retrospective study.INTRODUCTION: The diagnosis of atrial fibrillation (AF) is often based on electrocardiogram (ECG) findings, such as ST-segment elevation and QTc prolongation. However, it is not always possible to distinguish between AF and non-paroxysmal AF (NPAF).METHODS AND RESULTS: We retrospectively reviewed all patients who were diagnosed with NPAF or AF in our cardiology department from January',\n",
       " 'A blue new born presents with cyanosis. The X–ray chest reveal oligaemic lung field and normal sized heart. Most likely diagnosis is – Hint: hemophagocytic lymphohistiocytosis (HLH). We report a case of HLH presenting as neonatal sepsis in an 11-day old male infant who was admitted to our hospital for treatment of acute respiratory distress syndrome (ARDS).\\nMolecular epidemiology of hepatitis C virus genotypes circulating in the United Arab Emirates.BACKGROUND & AIMS: Hepatitis C virus (HCV) infection is endemic in the United Arab Emirates (UAE',\n",
       " '27.\\tThe lateral spread of dental caries is facilitated mostly  by the Hint: (1) an increase in the number of occlusal contacts between adjacent teeth; and (2) a decrease in the contact area between adjacent teeth. The aim of this study was to investigate the relationship between these two factors.METHODS: A cross-sectional study was carried out with 100 randomly selected schoolchildren aged 7-9 years old, who were divided into three groups according to the presence or absence of dental caries.RESULTS: There was no statistically significant difference between the prevalence of dental',\n",
       " 'A second-year PG resident tells you to perform an ABG of a patient. All of the following are true about performing an ABG except: Hint: The ABG can be done in less than 10 minutes, and it is easy to learn how to do it.\\n[The use of nonsteroidal anti-inflammatory drugs (NSAIDs) by patients with rheumatoid arthritis].INTRODUCTION: Nonsteroidal anti-inflammatory drugs (NSAIDs) are widely used for the treatment of chronic inflammatory diseases such as rheumatoid arthritis (RA). In this study we aimed to assess the prevalence of NSAID use among RA patients',\n",
       " 'Respiratory rhythm generation center is located at: Hint: [Formula: see text] in the right ventricular outflow tract (RVOT). In this study, we aimed to elucidate the relationship between pulmonary arterial systolic pressure (PASP) and tricuspid annular plane systolic excursion (TAPSE) using two-dimensional speckle tracking echocardiography.METHODS AND RESULTS: A total of 60 patients who underwent transesophageal echocardiography were',\n",
       " 'Gait apraxia is seen in thromboembolic episode involving: Hint: a case report.INTRODUCTION: Gait apraxia (GA) is one of the most common gait dysfunctions observed in patients with deep venous thrombosis (DVT). The aim of this study was to investigate the relationship between GA and DVT, as well as its impact on quality of life (QoL).MATERIALS AND METHODS: We retrospectively reviewed the medical records of all patients who were diagnosed with DVT at our',\n",
       " 'Heavy forces on periodontal ligament causes: Hint: A biomechanical study.OBJECTIVES: The purpose of this study was to evaluate the effects of different force levels (0, 10, 20, and 30 N) applied to human gingival fibroblasts in vitro under static and cyclic loading conditions.MATERIALS AND METHODS: Human gingival fibroblasts were isolated from extracted third molars. Fibroblasts were cultured for 24 hours at 37°C with 5% fetal bovine',\n",
       " 'About N. gonorrhoea, all are true except Hint: there is no consensus on the diagnosis of gonococcal urethritis (GU). The aim of this study was to determine the prevalence of GU in a large cohort of HIV-infected men who have sex with men (MSM) and their sexual partners.METHODS: We conducted a cross-sectional study using data collected through an Internet-based survey that included questions about demographics, sexual behaviors, STI testing history, self-reported health status, use of antiretroviral therapy']"
      ]
     },
     "execution_count": 65,
     "metadata": {},
     "output_type": "execute_result"
    }
   ],
   "source": [
    "def generate_datasets_with_prompt_and_save(dataset, save_path):\n",
    "    \n",
    "    questions = dataset['question']\n",
    "    input_prompts_hint = list(map(lambda q: f\"{q} Hint:\",\n",
    "                    questions))\n",
    "    \n",
    "    for i in tqdm.tqdm(range(len(input_prompts_hint)//16)):\n",
    "        inputs = tokenizer(input_prompts_hint[16*i:16*(i+1)], return_tensors=\"pt\",  padding=True, truncation=True).to(device)\n",
    "\n",
    "        # Generate text by feeding the encoded input through the model and sampling output tokens\n",
    "        outputs = model.generate(input_ids=inputs[\"input_ids\"],\n",
    "                                attention_mask=inputs[\"attention_mask\"], \n",
    "                                max_length=max_length+inputs[\"input_ids\"].shape[1], \n",
    "                                num_beams=10, early_stopping=True,\n",
    "                                repetition_penalty=4.2,\n",
    "                                pad_token_id=50256\n",
    "                                )\n",
    "        generated_text = tokenizer.batch_decode(outputs, \n",
    "                                        skip_special_tokens=True\n",
    "                                        )\n",
    "        break\n",
    "\n",
    "\n",
    "    print(generated_text)\n",
    "\n",
    "\n",
    "# # Decode the generated tokens back into textf\n",
    "# for i in range(len(outputs)):\n",
    "#     \n",
    "    \n",
    "\n",
    "\n",
    "#     print(f\"Generated Text:\\n{generated_text}\\n\")\n",
    "    "
   ]
  },
  {
   "cell_type": "code",
   "execution_count": 114,
   "metadata": {},
   "outputs": [
    {
     "data": {
      "text/plain": [
       "(dict_keys(['input_ids', 'attention_mask']),\n",
       " torch.Size([16, 60]),\n",
       " torch.Size([16, 60]))"
      ]
     },
     "execution_count": 114,
     "metadata": {},
     "output_type": "execute_result"
    }
   ],
   "source": [
    "inputs.keys(), inputs[\"input_ids\"].shape, inputs[\"attention_mask\"].shape, output"
   ]
  },
  {
   "cell_type": "code",
   "execution_count": 118,
   "metadata": {},
   "outputs": [
    {
     "name": "stdout",
     "output_type": "stream",
     "text": [
      "None\n"
     ]
    }
   ],
   "source": [
    "print(tokenizer.pad_token_id)"
   ]
  },
  {
   "cell_type": "code",
   "execution_count": 72,
   "metadata": {},
   "outputs": [],
   "source": []
  },
  {
   "cell_type": "code",
   "execution_count": 67,
   "metadata": {},
   "outputs": [
    {
     "data": {
      "text/plain": [
       "4183"
      ]
     },
     "execution_count": 67,
     "metadata": {},
     "output_type": "execute_result"
    }
   ],
   "source": [
    "len(input_prompts)"
   ]
  },
  {
   "cell_type": "code",
   "execution_count": 93,
   "metadata": {},
   "outputs": [
    {
     "name": "stdout",
     "output_type": "stream",
     "text": [
      "[PAD]\n"
     ]
    }
   ],
   "source": [
    "generation_model.tokenizer.padding_side='left'\n",
    "if generation_model.tokenizer.pad_token is None:\n",
    "    generation_model.tokenizer.add_special_tokens({'pad_token': '[PAD]'})\n",
    "    generation_model.model.resize_token_embeddings(len(generation_model.tokenizer))\n",
    "else:\n",
    "    print(generation_model.tokenizer.pad_token)\n",
    "    \n",
    "generation_model.tokenizer.pad_token = generation_model.tokenizer.eos_token\n",
    "inputs  = generation_model.tokenizer(input_prompts[0:16], padding=True, truncation=True, return_tensors=\"pt\")\n",
    "\n",
    "\n",
    "inputs = {k: v.to(device) for k, v in inputs.items()}\n",
    "output_sequences = generation_model.model.generate(\n",
    "            input_ids=inputs[\"input_ids\"],\n",
    "            # attention_mask=inputs[\"attention_mask\"],\n",
    "            max_length=64 + inputs[\"input_ids\"].shape[1],\n",
    "            pad_token_id=generation_model.model.config.eos_token_id,  # Ensure pad_token_id is set for open-ended generation\n",
    "            temperature=1.0,\n",
    "            top_k=50,\n",
    "            top_p=0.95,\n",
    "            repetition_penalty=5.2,\n",
    "            do_sample=True,\n",
    "            # num_beams  = 4,\n",
    "            num_return_sequences=4,\n",
    "        )\n"
   ]
  },
  {
   "cell_type": "code",
   "execution_count": 94,
   "metadata": {},
   "outputs": [
    {
     "data": {
      "text/plain": [
       "'<|endoftext|>'"
      ]
     },
     "execution_count": 94,
     "metadata": {},
     "output_type": "execute_result"
    }
   ],
   "source": [
    "generation_model.tokenizer.pad_token"
   ]
  },
  {
   "cell_type": "code",
   "execution_count": 95,
   "metadata": {},
   "outputs": [
    {
     "data": {
      "text/plain": [
       "(torch.Size([64, 124]), torch.Size([16, 60]))"
      ]
     },
     "execution_count": 95,
     "metadata": {},
     "output_type": "execute_result"
    }
   ],
   "source": [
    "output_sequences.shape, inputs[\"input_ids\"].shape"
   ]
  },
  {
   "cell_type": "code",
   "execution_count": 96,
   "metadata": {},
   "outputs": [
    {
     "name": "stdout",
     "output_type": "stream",
     "text": [
      "Generated Text 1: Subject: Physiology, Topic: None\n",
      "Question: Which of the following is not true for myelinated nerve fibers:\n",
      " To answer this question, we need to notice the fact that ery [PAD] [PAD] [PAD] [PAD] [PAD] [PAD] [PAD] [PAD] [PAD] [PAD] [PAD] [PAD] [PAD] [PAD] [PAD] [PAD] [PAD] [PAD] [PAD] [PAD] [PAD] [PAD] [PAD] [PAD] [PAD] [PAD] [PAD] [PAD]. [PAD]    [PAD] [PAD]  * [PAD] [PAD]  ( [PAD] [PAD] [PAD] [PAD] [PAD] [PAD] ). [PAD]   [PAD] [PAD]   [PAD]  ) [PAD]  E [PAD] [PAD] [PAD] [PAD] [PAD]  / [PAD]  ; [PAD]  \n",
      "\n",
      "Generated Text 2: Subject: Physiology, Topic: None\n",
      "Question: Which of the following is not true for myelinated nerve fibers:\n",
      " To answer this question, we need to notice the fact that  [PAD] [PAD] [PAD] [PAD] [PAD] [PAD] [PAD] [PAD] [PAD] [PAD] [PAD] [PAD] [PAD] [PAD] [PAD] [PAD] [PAD] [PAD] [PAD] [PAD] [PAD] [PAD] [PAD] [PAD] [PAD] [PAD] [PAD] [PAD] [PAD] [PAD] [PAD] [PAD] [PAD] [PAD] [PAD] [PAD] [PAD] [PAD] [PAD] [PAD] [PAD]  ( [PAD] [PAD] [PAD] [PAD] [PAD] [PAD] [PAD] [PAD]    [PAD] [PAD] [PAD] [PAD]  ) [PAD] [PAD] [PAD] [PAD] [PAD]   [PAD] [PAD]\n",
      "\n",
      "Generated Text 3: Subject: Physiology, Topic: None\n",
      "Question: Which of the following is not true for myelinated nerve fibers:\n",
      " To answer this question, we need to notice the fact that  [PAD] [PAD] [PAD] [PAD] [PAD] [PAD] [PAD] [PAD] [PAD] [PAD] [PAD] [PAD] [PAD] [PAD] [PAD] [PAD] [PAD] [PAD] [PAD] [PAD] [PAD] [PAD] [PAD] [PAD] [PAD] [PAD] [PAD] [PAD] [PAD] [PAD] [PAD] [PAD] [PAD] [PAD] [PAD] [PAD]. [PAD] [PAD] [PAD] [PAD] [PAD]   [PAD] [PAD] [PAD] [PAD]   [PAD] [PAD] . [PAD]   [PAD]  should [PAD] [PAD]? [PAD]  as [PAD] [PAD]  and [PAD]\n",
      "\n",
      "Generated Text 4: Subject: Physiology, Topic: None\n",
      "Question: Which of the following is not true for myelinated nerve fibers:\n",
      " To answer this question, we need to notice the fact that ery [PAD] [PAD] [PAD] [PAD] [PAD] [PAD] [PAD] [PAD] [PAD] [PAD] [PAD] [PAD] [PAD] [PAD] [PAD] [PAD] [PAD] [PAD] [PAD] [PAD] [PAD] [PAD] [PAD] [PAD] [PAD] [PAD] [PAD]. [PAD]  It [PAD] [PAD] [PAD] [PAD] [PAD] [PAD] [PAD] [PAD] [PAD] [PAD] [PAD] [PAD] [PAD] [PAD] [PAD] [PAD] [PAD]   [PAD] [PAD]   [PAD] [PAD]  This [PAD] [PAD] - [PAD] [PAD]  only [PAD]  do [PAD]\n",
      "\n",
      "Generated Text 5: Subject: Physiology, Topic: None\n",
      "Question: Which of the following is not true about glomerular capillaries')\n",
      " To answer this question, we need to notice the fact that  [PAD] [PAD] [PAD] [PAD] [PAD] [PAD] [PAD] [PAD] [PAD] [PAD] [PAD] [PAD] [PAD] [PAD] [PAD] [PAD] [PAD] [PAD] [PAD] [PAD] [PAD] [PAD] [PAD] [PAD] [PAD] [PAD] [PAD] [PAD] [PAD] [PAD] [PAD] [PAD] [PAD] [PAD] '. [PAD] [PAD] [PAD]    [PAD]  in [PAD]  I [PAD] [PAD] [PAD]   [PAD] [PAD]   [PAD]  : [PAD] '[PAD] , [PAD] [PAD] [PAD] [PAD]  should [PAD] [PAD] .\n",
      "\n",
      "Generated Text 6: Subject: Physiology, Topic: None\n",
      "Question: Which of the following is not true about glomerular capillaries')\n",
      " To answer this question, we need to notice the fact that  [PAD] [PAD] [PAD] [PAD] [PAD] [PAD] [PAD] [PAD] [PAD] [PAD] [PAD] [PAD] [PAD] [PAD] [PAD] [PAD] [PAD] [PAD] [PAD] [PAD] [PAD] [PAD] [PAD] [PAD] [PAD] [PAD] [PAD] [PAD] [PAD] [PAD] [PAD] [PAD] [PAD] [PAD] [PAD]? [PAD] [PAD] [PAD] [PAD] [PAD] [PAD] [PAD] [PAD]. [PAD]  Theses [PAD] [PAD] [PAD] ... [PAD] [PAD] [PAD]  : [PAD] . [PAD] [PAD]  mean [PAD] [PAD] [PAD]\n",
      "\n",
      "Generated Text 7: Subject: Physiology, Topic: None\n",
      "Question: Which of the following is not true about glomerular capillaries')\n",
      " To answer this question, we need to notice the fact that ery [PAD] [PAD] [PAD] [PAD] [PAD] [PAD] [PAD] [PAD] [PAD] [PAD] [PAD] [PAD] [PAD] [PAD] [PAD] [PAD] [PAD] [PAD] [PAD] [PAD] [PAD] [PAD] [PAD]! [PAD]  e [PAD] [PAD] [PAD] [PAD] [PAD]. [PAD]  and [PAD] [PAD] [PAD] [PAD] [PAD] [PAD] [PAD] [PAD]  The [PAD] [PAD]  u [PAD] [PAD] '[PAD] [PAD] [PAD]  do [PAD]   ( [PAD] . [PAD]  ; ) [PAD]   \n",
      "\n",
      "Generated Text 8: Subject: Physiology, Topic: None\n",
      "Question: Which of the following is not true about glomerular capillaries')\n",
      " To answer this question, we need to notice the fact that   [PAD] [PAD] [PAD] [PAD] [PAD] [PAD] [PAD] [PAD] [PAD] [PAD] [PAD] [PAD] [PAD] [PAD] [PAD] [PAD] [PAD] [PAD] [PAD] [PAD] [PAD] [PAD] [PAD] [PAD] [PAD] [PAD] [PAD] [PAD] [PAD] [PAD] [PAD] [PAD] [PAD] [PAD] [PAD] [PAD] [PAD] [PAD] [PAD] . [PAD] [PAD] [PAD] [PAD] [PAD]  a [PAD] [PAD] [PAD] [PAD] , [PAD] [PAD] [PAD] [PAD] [PAD] [PAD] , [PAD]   [PAD]. [PAD]\n",
      "\n",
      "Generated Text 9: Subject: Medicine, Topic: None\n",
      "Question: A 29 yrs old woman with a pregnancy of 17 week has a 10 years old boy with down syndrome. She does not want another down syndrome kid; best advice to her is\n",
      " To answer this question, we need to notice the fact that   [PAD] [PAD] [PAD] [PAD] [PAD] [PAD] [PAD] [PAD] [PAD] [PAD] [PAD] [PAD] [PAD] [PAD] [PAD] [PAD] [PAD] [PAD] [PAD] [PAD] [PAD] [PAD] [PAD] [PAD] ... [PAD] [PAD] [PAD] [PAD] [PAD]    [PAD] [PAD] [PAD] [PAD] . [PAD]   [PAD]  system [PAD] [PAD] [PAD] [PAD] [PAD]     [PAD] [PAD]  : [PAD] [PAD] [PAD] [PAD] [PAD] [PAD] [PAD]  ; [PAD] [PAD]  ,\n",
      "\n",
      "Generated Text 10: Subject: Medicine, Topic: None\n",
      "Question: A 29 yrs old woman with a pregnancy of 17 week has a 10 years old boy with down syndrome. She does not want another down syndrome kid; best advice to her is\n",
      " To answer this question, we need to notice the fact that   [PAD] [PAD] [PAD] [PAD] [PAD] [PAD] [PAD] [PAD] [PAD] [PAD] [PAD] [PAD] [PAD] [PAD] [PAD] [PAD] [PAD] [PAD] [PAD] [PAD] [PAD] [PAD] [PAD] [PAD]    [PAD] [PAD] [PAD] [PAD] [PAD] [PAD]! [PAD] [PAD] [PAD] [PAD] [PAD] [PAD] [PAD] [PAD] [PAD]  system [PAD] [PAD] [PAD] [PAD] [PAD] [PAD] [PAD] [PAD] [PAD] [PAD] [PAD] [PAD] [PAD] [PAD] - [PAD] [PAD] [PAD]  ( [PAD] [PAD]\n",
      "\n",
      "Generated Text 11: Subject: Medicine, Topic: None\n",
      "Question: A 29 yrs old woman with a pregnancy of 17 week has a 10 years old boy with down syndrome. She does not want another down syndrome kid; best advice to her is\n",
      " To answer this question, we need to notice the fact that   [PAD] [PAD] [PAD] [PAD] [PAD] [PAD] [PAD] [PAD] [PAD] [PAD] [PAD] [PAD] [PAD] [PAD] [PAD] [PAD] [PAD] [PAD] [PAD] [PAD] [PAD] [PAD] [PAD] [PAD] [PAD] [PAD] [PAD] [PAD] [PAD] [PAD] [PAD] [PAD] [PAD]    [PAD]  . [PAD]   [PAD]  : [PAD] [PAD] [PAD] [PAD] [PAD] [PAD] [PAD] [PAD]   , [PAD] [PAD] [PAD]    ; [PAD] [PAD]  non [PAD] [PAD] ,\n",
      "\n"
     ]
    }
   ],
   "source": [
    "for i, generated_sequence in enumerate(output_sequences):\n",
    "    decoded_text = generation_model.tokenizer.decode(generated_sequence, skip_special_tokens=True)\n",
    "    print(f\"Generated Text {i+1}: {decoded_text}\")\n",
    "    print()\n",
    "    if i == 10: break"
   ]
  },
  {
   "cell_type": "code",
   "execution_count": 75,
   "metadata": {},
   "outputs": [
    {
     "name": "stdout",
     "output_type": "stream",
     "text": [
      "Subject: Physiology, Topic: None\n",
      "Question: Which of the following is not true for myelinated nerve fibers:\n",
      "A: Impulse through myelinated fibers is slower than non-myelinated fibers\n",
      "B: Membrane currents are generated at nodes of Ranvier\n",
      "C: Saltatory conduction of impulses is seen\n",
      "D: Local anesthesia is effective only when the nerve is not covered by myelin sheath\n",
      "Key concepts: \n"
     ]
    }
   ],
   "source": [
    "print(input_prompts_long[0])"
   ]
  },
  {
   "cell_type": "code",
   "execution_count": 11,
   "metadata": {},
   "outputs": [
    {
     "data": {
      "text/plain": [
       "9041"
      ]
     },
     "execution_count": 11,
     "metadata": {},
     "output_type": "execute_result"
    }
   ],
   "source": [
    "torch.cuda.empty_cache()\n",
    "import gc\n",
    "\n",
    "gc.collect()\n"
   ]
  },
  {
   "cell_type": "code",
   "execution_count": null,
   "metadata": {},
   "outputs": [],
   "source": []
  }
 ],
 "metadata": {
  "kernelspec": {
   "display_name": "base",
   "language": "python",
   "name": "python3"
  },
  "language_info": {
   "codemirror_mode": {
    "name": "ipython",
    "version": 3
   },
   "file_extension": ".py",
   "mimetype": "text/x-python",
   "name": "python",
   "nbconvert_exporter": "python",
   "pygments_lexer": "ipython3",
   "version": "3.10.13"
  }
 },
 "nbformat": 4,
 "nbformat_minor": 2
}

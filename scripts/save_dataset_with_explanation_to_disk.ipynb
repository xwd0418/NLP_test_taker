{
 "cells": [
  {
   "cell_type": "code",
   "execution_count": 1,
   "metadata": {},
   "outputs": [
    {
     "name": "stderr",
     "output_type": "stream",
     "text": [
      "/opt/conda/lib/python3.10/site-packages/tqdm/auto.py:21: TqdmWarning: IProgress not found. Please update jupyter and ipywidgets. See https://ipywidgets.readthedocs.io/en/stable/user_install.html\n",
      "  from .autonotebook import tqdm as notebook_tqdm\n"
     ]
    },
    {
     "name": "stdout",
     "output_type": "stream",
     "text": [
      "Using model: microsoft/BiomedNLP-BiomedBERT-base-uncased-abstract-fulltext\n"
     ]
    },
    {
     "name": "stderr",
     "output_type": "stream",
     "text": [
      "Asking to truncate to max_length but no maximum length is provided and the model has no predefined maximum length. Default to no truncation.\n"
     ]
    }
   ],
   "source": [
    "from transformers import BertTokenizer, BertForSequenceClassification, BertConfig\n",
    "\n",
    "from datasets import load_dataset\n",
    "\n",
    "\n",
    "\n",
    "dataset = load_dataset(\"openlifescienceai/medmcqa\")\n",
    "train_dataset = dataset[\"train\"]\n",
    "curr_dataset = train_dataset\n",
    "\n",
    "\n",
    "config = {\n",
    "    'model_name': 'pubmed_bert',\n",
    "}\n",
    "model_full_name = 'bert-base-uncased' if config['model_name'] == \"general_bert\" else \"microsoft/BiomedNLP-BiomedBERT-base-uncased-abstract-fulltext\"\n",
    "print(f\"Using model: {model_full_name}\")\n",
    "tokenizer = BertTokenizer.from_pretrained(model_full_name)\n",
    "\n",
    "\n",
    "Q = curr_dataset[\"question\"]\n",
    "A,B,C,D = curr_dataset[\"opa\"], curr_dataset[\"opb\"], curr_dataset[\"opc\"], curr_dataset[\"opd\"]\n",
    "\n",
    "# if load_hints:\n",
    "#   hints = None # load from somewhere\n",
    "#   inputs = map(lambda h,q,a,b,c,d:f\"Question: Given that {h}, {q}\\nA: {a}\\nB: {b}\\nC: {c}\\nD: {d}\\n\", hints,Q,A,B,C,D)\n",
    "#   input_tokens = self.tokenizer(list(inputs), padding=True, truncation=True, return_tensors=\"pt\")\n",
    "\n",
    "inputs = map(lambda q,a,b,c,d:f\"Question: {q}\\nA: {a}\\nB: {b}\\nC: {c}\\nD: {d}\\n\", Q,A,B,C,D)\n",
    "input_tokens = tokenizer(list(inputs), padding=True, truncation=True, return_tensors=\"pt\")"
   ]
  },
  {
   "cell_type": "code",
   "execution_count": 2,
   "metadata": {},
   "outputs": [],
   "source": [
    "explanations = curr_dataset[\"exp\"]\n",
    "explanations = list(map(lambda e: str(e), explanations))\n",
    "exp_tokens = tokenizer(explanations, padding=True, truncation=True, max_length=256, return_tensors=\"pt\")"
   ]
  },
  {
   "cell_type": "code",
   "execution_count": 3,
   "metadata": {},
   "outputs": [],
   "source": [
    "exp_exist = []\n",
    "for i in curr_dataset[\"exp\"]:\n",
    "  if i == None:\n",
    "    exp_exist.append(0)\n",
    "  else:\n",
    "    exp_exist.append(1)"
   ]
  },
  {
   "cell_type": "code",
   "execution_count": 5,
   "metadata": {},
   "outputs": [
    {
     "ename": "",
     "evalue": "",
     "output_type": "error",
     "traceback": [
      "\u001b[1;31mThe Kernel crashed while executing code in the current cell or a previous cell. \n",
      "\u001b[1;31mPlease review the code in the cell(s) to identify a possible cause of the failure. \n",
      "\u001b[1;31mClick <a href='https://aka.ms/vscodeJupyterKernelCrash'>here</a> for more info. \n",
      "\u001b[1;31mView Jupyter <a href='command:jupyter.viewOutput'>log</a> for further details."
     ]
    }
   ],
   "source": [
    "import torch\n",
    "bert_version = config[\"model_name\"]\n",
    "train_dataset_with_explanations = torch.utils.data.TensorDataset(input_tokens.input_ids, input_tokens.attention_mask,\n",
    "                                exp_tokens.input_ids, exp_tokens.attention_mask, torch.tensor(exp_exist),\n",
    "                                                torch.tensor(train_dataset[\"cop\"]).long())\n",
    "\n",
    "torch.save(train_dataset_with_explanations, \n",
    "           '/root/pubmedQA_291/dataset_pickles/medmcqa/microsoft/BiomedNLP-BiomedBERT-base-uncased-abstract-fulltext/classification_style/train_dataset_with_explanations.pt')"
   ]
  },
  {
   "cell_type": "code",
   "execution_count": null,
   "metadata": {},
   "outputs": [],
   "source": []
  }
 ],
 "metadata": {
  "kernelspec": {
   "display_name": "base",
   "language": "python",
   "name": "python3"
  },
  "language_info": {
   "codemirror_mode": {
    "name": "ipython",
    "version": 3
   },
   "file_extension": ".py",
   "mimetype": "text/x-python",
   "name": "python",
   "nbconvert_exporter": "python",
   "pygments_lexer": "ipython3",
   "version": "3.10.13"
  }
 },
 "nbformat": 4,
 "nbformat_minor": 2
}

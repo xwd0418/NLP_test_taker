{
 "cells": [
  {
   "cell_type": "code",
   "execution_count": 3,
   "metadata": {},
   "outputs": [
    {
     "name": "stderr",
     "output_type": "stream",
     "text": [
      "/opt/conda/lib/python3.10/site-packages/tqdm/auto.py:21: TqdmWarning: IProgress not found. Please update jupyter and ipywidgets. See https://ipywidgets.readthedocs.io/en/stable/user_install.html\n",
      "  from .autonotebook import tqdm as notebook_tqdm\n"
     ]
    }
   ],
   "source": [
    "import logging\n",
    "import pickle, random\n",
    "import torch, os, pytorch_lightning as pl, glob\n",
    "import torch.distributed as dist\n",
    "from torch.utils.data import DataLoader, Dataset\n",
    "from transformers import BertTokenizer\n",
    "import torch.nn.functional as F\n",
    "from datasets import load_dataset\n",
    "\n",
    "\n",
    "class MedMCQA_Datamodule_to_save_datasets(pl.LightningDataModule):\n",
    "    def __init__(self, batch_size: int = 32, model_name: str = \"bert-base-uncased\"):\n",
    "        # OR: microsoft/BiomedNLP-BiomedBERT-base-uncased-abstract-fulltext\n",
    "        super().__init__()\n",
    "        self.logger = logging.getLogger(\"lightning\")\n",
    "\n",
    "        self.batch_size = batch_size\n",
    "        self.tokenizer = BertTokenizer.from_pretrained(model_name)\n",
    "        \n",
    "    def prepare_data(self):\n",
    "        self.logger.info('Loading dataset')\n",
    "        self.dataset = load_dataset(\"openlifescienceai/medmcqa\")\n",
    "\n",
    "    def setup(self, stage=None):\n",
    "        if stage == 'fit' or stage is None:\n",
    "            \n",
    "            self.logger.info('Setting up train dataset')\n",
    "            train_dataset = self.dataset[\"train\"]\n",
    "            self.train_dataset = self.convert_to_dataset(train_dataset)\n",
    "\n",
    "            self.logger.info('Setting up val dataset')\n",
    "            val_dataset = self.dataset['validation']\n",
    "            self.val_dataset = self.convert_to_dataset(val_dataset)\n",
    "            \n",
    "        if stage == \"test\"   : \n",
    "            self.logger.info('Setting up test dataset')\n",
    "            test_dataset = self.dataset[\"test\"]\n",
    "            self.test_dataset = self.convert_to_dataset(test_dataset)\n",
    "            \n",
    "    def convert_to_dataset(self, dataset, mode = \"classification\"):\n",
    "        # mode can be either \"classification\" or \"clip\"\n",
    "        # Convert dataset to PyTorch format\n",
    "        if mode == \"classification\":\n",
    "            # \n",
    "            # print(dataset.keys())\n",
    "            A,B,C,D = dataset['opa'], dataset['opb'],dataset['opc'],dataset['opd']\n",
    "            questions = dataset['question']\n",
    "            subject_names = dataset['subject_name']\n",
    "            topic_names = dataset['topic_name']\n",
    "\n",
    "            input_prompts = list(map(lambda a,b,c,d,q,subject,topic: f\"Subject: {subject}, Topic: {topic}\\nQuestion: {q}\\nA: {a}\\nB: {b}\\nC: {c}\\nD: {d}\\n\",\n",
    "                                A,B,C,D,questions, subject_names, topic_names))\n",
    "            \n",
    "            tokens = self.tokenizer(input_prompts, padding=True, truncation=True, return_tensors=\"pt\")\n",
    "            labels = dataset['cop']            \n",
    "            return torch.utils.data.TensorDataset(tokens.input_ids, tokens.attention_mask, torch.tensor(labels))\n",
    "        \n",
    "        elif mode == \"clip\":\n",
    "            raise Exception(\"Not implemented yet\")\n",
    "        \n",
    "    def train_dataloader(self):\n",
    "        return DataLoader(self.train_dataset, self.batch_size, shuffle=True)\n",
    "\n",
    "    def val_dataloader(self):\n",
    "        return DataLoader(self.val_dataset, self.batch_size)\n",
    "    \n",
    "    def test_dataloader(self):\n",
    "        return DataLoader(self.test_dataset, self.batch_size)"
   ]
  },
  {
   "cell_type": "code",
   "execution_count": 4,
   "metadata": {},
   "outputs": [
    {
     "name": "stderr",
     "output_type": "stream",
     "text": [
      "Asking to truncate to max_length but no maximum length is provided and the model has no predefined maximum length. Default to no truncation.\n"
     ]
    }
   ],
   "source": [
    "datamodule_mcqa = MedMCQA_Datamodule_to_save_datasets(model_name='microsoft/BiomedNLP-BiomedBERT-base-uncased-abstract-fulltext')\n",
    "datamodule_mcqa.prepare_data()\n",
    "datamodule_mcqa.setup()\n",
    "datamodule_mcqa.setup(\"test\")"
   ]
  },
  {
   "cell_type": "code",
   "execution_count": 5,
   "metadata": {},
   "outputs": [],
   "source": [
    "import os\n",
    "import torch\n",
    "\n",
    "# Create a folder to save the files\n",
    "folder_path = '/root/pubmedQA_291/dataset_pickles/medmcqa/microsoft/BiomedNLP-BiomedBERT-base-uncased-abstract-fulltext'\n",
    "            #\"/root/pubmedQA_291/dataset_pickles/medmcqa/classification_style/\"\n",
    "os.makedirs(folder_path, exist_ok=True)\n",
    "\n",
    "# Save the train_dataset\n",
    "train_dataset_path = os.path.join(folder_path, \"train_dataset.pt\")\n",
    "torch.save(datamodule_mcqa.train_dataset, train_dataset_path)\n",
    "\n",
    "# Save the val_dataset\n",
    "val_dataset_path = os.path.join(folder_path, \"val_dataset.pt\")\n",
    "torch.save(datamodule_mcqa.val_dataset, val_dataset_path)\n",
    "\n",
    "# Save the test_dataset\n",
    "test_dataset_path = os.path.join(folder_path, \"test_dataset.pt\")\n",
    "torch.save(datamodule_mcqa.test_dataset, test_dataset_path)\n"
   ]
  },
  {
   "cell_type": "code",
   "execution_count": null,
   "metadata": {},
   "outputs": [],
   "source": []
  },
  {
   "cell_type": "code",
   "execution_count": 1,
   "metadata": {},
   "outputs": [],
   "source": [
    "# inspect longest sequence\n",
    "import torch"
   ]
  },
  {
   "cell_type": "code",
   "execution_count": 2,
   "metadata": {},
   "outputs": [],
   "source": [
    "train_dataset = torch.load('/root/pubmedQA_291/dataset_pickles/medmcqa/classification_style/train_dataset.pt')"
   ]
  },
  {
   "cell_type": "code",
   "execution_count": 5,
   "metadata": {},
   "outputs": [
    {
     "data": {
      "text/plain": [
       "(torch.Size([182822, 453]), torch.Size([182822, 453]), torch.Size([182822]))"
      ]
     },
     "execution_count": 5,
     "metadata": {},
     "output_type": "execute_result"
    }
   ],
   "source": [
    "train_dataset.tensors[0].shape, train_dataset.tensors[1].shape, train_dataset.tensors[2].shape"
   ]
  },
  {
   "cell_type": "code",
   "execution_count": 7,
   "metadata": {},
   "outputs": [
    {
     "data": {
      "text/plain": [
       "tensor([  101,  3395,  1024, 13336,  1010,  8476,  1024, 24471,  3981,  2854,\n",
       "        12859,  3160,  1024, 11888, 24471, 11031,  7941, 27208,  2349,  2000,\n",
       "        28378, 26113, 12070, 23760, 24759, 15396,  2064,  2599,  2000,  1996,\n",
       "         2206,  2689,  1999, 14234, 11968,  2368, 11714,  2863,  1037,  1024,\n",
       "        23760, 24759, 15396,  1038,  1024, 23760,  7361, 10536,  1039,  1024,\n",
       "         2012, 18981, 10536,  1040,  1024,  1040, 22571,  8523,  2401,   102,\n",
       "            0,     0,     0,     0,     0,     0,     0,     0,     0,     0,\n",
       "            0,     0,     0,     0,     0,     0,     0,     0,     0,     0,\n",
       "            0,     0,     0,     0,     0,     0,     0,     0,     0,     0,\n",
       "            0,     0,     0,     0,     0,     0,     0,     0,     0,     0,\n",
       "            0,     0,     0,     0,     0,     0,     0,     0,     0,     0,\n",
       "            0,     0,     0,     0,     0,     0,     0,     0,     0,     0,\n",
       "            0,     0,     0,     0,     0,     0,     0,     0,     0,     0,\n",
       "            0,     0,     0,     0,     0,     0,     0,     0,     0,     0,\n",
       "            0,     0,     0,     0,     0,     0,     0,     0,     0,     0,\n",
       "            0,     0,     0,     0,     0,     0,     0,     0,     0,     0,\n",
       "            0,     0,     0,     0,     0,     0,     0,     0,     0,     0,\n",
       "            0,     0,     0,     0,     0,     0,     0,     0,     0,     0,\n",
       "            0,     0,     0,     0,     0,     0,     0,     0,     0,     0,\n",
       "            0,     0,     0,     0,     0,     0,     0,     0,     0,     0,\n",
       "            0,     0,     0,     0,     0,     0,     0,     0,     0,     0,\n",
       "            0,     0,     0,     0,     0,     0,     0,     0,     0,     0,\n",
       "            0,     0,     0,     0,     0,     0,     0,     0,     0,     0,\n",
       "            0,     0,     0,     0,     0,     0,     0,     0,     0,     0,\n",
       "            0,     0,     0,     0,     0,     0,     0,     0,     0,     0,\n",
       "            0,     0,     0,     0,     0,     0,     0,     0,     0,     0,\n",
       "            0,     0,     0,     0,     0,     0,     0,     0,     0,     0,\n",
       "            0,     0,     0,     0,     0,     0,     0,     0,     0,     0,\n",
       "            0,     0,     0,     0,     0,     0,     0,     0,     0,     0,\n",
       "            0,     0,     0,     0,     0,     0,     0,     0,     0,     0,\n",
       "            0,     0,     0,     0,     0,     0,     0,     0,     0,     0,\n",
       "            0,     0,     0,     0,     0,     0,     0,     0,     0,     0,\n",
       "            0,     0,     0,     0,     0,     0,     0,     0,     0,     0,\n",
       "            0,     0,     0,     0,     0,     0,     0,     0,     0,     0,\n",
       "            0,     0,     0,     0,     0,     0,     0,     0,     0,     0,\n",
       "            0,     0,     0,     0,     0,     0,     0,     0,     0,     0,\n",
       "            0,     0,     0,     0,     0,     0,     0,     0,     0,     0,\n",
       "            0,     0,     0,     0,     0,     0,     0,     0,     0,     0,\n",
       "            0,     0,     0,     0,     0,     0,     0,     0,     0,     0,\n",
       "            0,     0,     0,     0,     0,     0,     0,     0,     0,     0,\n",
       "            0,     0,     0,     0,     0,     0,     0,     0,     0,     0,\n",
       "            0,     0,     0,     0,     0,     0,     0,     0,     0,     0,\n",
       "            0,     0,     0,     0,     0,     0,     0,     0,     0,     0,\n",
       "            0,     0,     0,     0,     0,     0,     0,     0,     0,     0,\n",
       "            0,     0,     0,     0,     0,     0,     0,     0,     0,     0,\n",
       "            0,     0,     0])"
      ]
     },
     "execution_count": 7,
     "metadata": {},
     "output_type": "execute_result"
    }
   ],
   "source": [
    "train_dataset.tensors[0][0]"
   ]
  },
  {
   "cell_type": "code",
   "execution_count": 8,
   "metadata": {},
   "outputs": [],
   "source": [
    "val_dataset = torch.load('/root/pubmedQA_291/dataset_pickles/medmcqa/classification_style/val_dataset.pt')"
   ]
  },
  {
   "cell_type": "code",
   "execution_count": 9,
   "metadata": {},
   "outputs": [
    {
     "data": {
      "text/plain": [
       "(torch.Size([4183, 234]), torch.Size([4183, 234]), torch.Size([4183]))"
      ]
     },
     "execution_count": 9,
     "metadata": {},
     "output_type": "execute_result"
    }
   ],
   "source": [
    "val_dataset.tensors[0].shape, val_dataset.tensors[1].shape, val_dataset.tensors[2].shape"
   ]
  },
  {
   "cell_type": "code",
   "execution_count": 10,
   "metadata": {},
   "outputs": [
    {
     "data": {
      "text/plain": [
       "tensor([  101,  3395,  1024, 16127,  1010,  8476,  1024,  3904,  3160,  1024,\n",
       "         2029,  1997,  1996,  2206,  2003,  2025,  2995,  2005,  2026, 18809,\n",
       "         4383,  9113, 16662,  1024,  1037,  1024, 14982,  2083,  2026, 18809,\n",
       "         4383, 16662,  2003, 12430,  2084,  2512,  1011,  2026, 18809,  4383,\n",
       "        16662,  1038,  1024, 10804, 14731,  2024,  7013,  2012, 14164,  1997,\n",
       "         2743, 14356,  1039,  1024,  5474, 14049,  6204,  3258,  1997, 14982,\n",
       "         2015,  2003,  2464,  1040,  1024,  2334,  2019, 25344,  2003,  4621,\n",
       "         2069,  2043,  1996,  9113,  2003,  2025,  3139,  2011,  2026, 18809,\n",
       "        21867,   102,     0,     0,     0,     0,     0,     0,     0,     0,\n",
       "            0,     0,     0,     0,     0,     0,     0,     0,     0,     0,\n",
       "            0,     0,     0,     0,     0,     0,     0,     0,     0,     0,\n",
       "            0,     0,     0,     0,     0,     0,     0,     0,     0,     0,\n",
       "            0,     0,     0,     0,     0,     0,     0,     0,     0,     0,\n",
       "            0,     0,     0,     0,     0,     0,     0,     0,     0,     0,\n",
       "            0,     0,     0,     0,     0,     0,     0,     0,     0,     0,\n",
       "            0,     0,     0,     0,     0,     0,     0,     0,     0,     0,\n",
       "            0,     0,     0,     0,     0,     0,     0,     0,     0,     0,\n",
       "            0,     0,     0,     0,     0,     0,     0,     0,     0,     0,\n",
       "            0,     0,     0,     0,     0,     0,     0,     0,     0,     0,\n",
       "            0,     0,     0,     0,     0,     0,     0,     0,     0,     0,\n",
       "            0,     0,     0,     0,     0,     0,     0,     0,     0,     0,\n",
       "            0,     0,     0,     0,     0,     0,     0,     0,     0,     0,\n",
       "            0,     0,     0,     0,     0,     0,     0,     0,     0,     0,\n",
       "            0,     0,     0,     0])"
      ]
     },
     "execution_count": 10,
     "metadata": {},
     "output_type": "execute_result"
    }
   ],
   "source": [
    "val_dataset.tensors[0][0]"
   ]
  },
  {
   "cell_type": "code",
   "execution_count": null,
   "metadata": {},
   "outputs": [],
   "source": []
  }
 ],
 "metadata": {
  "kernelspec": {
   "display_name": "base",
   "language": "python",
   "name": "python3"
  },
  "language_info": {
   "codemirror_mode": {
    "name": "ipython",
    "version": 3
   },
   "file_extension": ".py",
   "mimetype": "text/x-python",
   "name": "python",
   "nbconvert_exporter": "python",
   "pygments_lexer": "ipython3",
   "version": "3.10.13"
  }
 },
 "nbformat": 4,
 "nbformat_minor": 2
}
